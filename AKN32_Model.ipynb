{
 "cells": [
  {
   "cell_type": "code",
   "execution_count": 13,
   "metadata": {},
   "outputs": [],
   "source": [
    "# Essential for python to interact with the operating system\n",
    "import os\n",
    "import re\n",
    "\n",
    "# Model development framework\n",
    "import torch\n",
    "import torch.nn as nn\n",
    "\n",
    "# Image processing functions\n",
    "import torchvision\n",
    "import torchvision.models as models\n",
    "import PIL\n",
    "\n",
    "from torch.utils.data import Dataset\n",
    "from torch.utils.data import Subset, random_split\n",
    "from torchvision.io import read_image\n",
    "from torchvision.transforms import transforms\n",
    "from torchvision.transforms import ToTensor\n",
    "from torch.utils.data import DataLoader\n",
    "from torch.optim import Adam\n",
    "from torch.autograd import Variable\n",
    "from torchvision.datasets import ImageFolder\n",
    "from tkinter import Image\n",
    "from PIL import Image\n",
    "\n",
    "# Analysis\n",
    "import numpy as np\n",
    "import pandas as pd\n",
    "import matplotlib.pyplot as plt\n",
    "import sklearn.metrics as metrics\n",
    "from sklearn.metrics import confusion_matrix\n",
    "from sklearn.metrics import roc_auc_score\n",
    "from sklearn.metrics import roc_curve\n",
    "from sklearn.metrics import f1_score\n",
    "from sklearn.preprocessing import label_binarize\n",
    "# Free up GPU memory\n",
    "torch.cuda.empty_cache()"
   ]
  },
  {
   "cell_type": "code",
   "execution_count": 14,
   "metadata": {},
   "outputs": [],
   "source": [
    "device = torch.device(\"cuda\" if torch.cuda.is_available() else \"cpu\")\n",
    "os.environ['CUDA_VISIBLE_DEVICES'] = '0'"
   ]
  },
  {
   "cell_type": "code",
   "execution_count": 15,
   "metadata": {},
   "outputs": [
    {
     "name": "stderr",
     "output_type": "stream",
     "text": [
      "c:\\Pytorch_for_fyp\\envfyp\\lib\\site-packages\\torchvision\\models\\_utils.py:208: UserWarning: The parameter 'pretrained' is deprecated since 0.13 and may be removed in the future, please use 'weights' instead.\n",
      "  warnings.warn(\n",
      "c:\\Pytorch_for_fyp\\envfyp\\lib\\site-packages\\torchvision\\models\\_utils.py:223: UserWarning: Arguments other than a weight enum or `None` for 'weights' are deprecated since 0.13 and may be removed in the future. The current behavior is equivalent to passing `weights=VGG16_Weights.IMAGENET1K_V1`. You can also use `weights=VGG16_Weights.DEFAULT` to get the most up-to-date weights.\n",
      "  warnings.warn(msg)\n"
     ]
    }
   ],
   "source": [
    "model_ft = models.vgg16(pretrained=True)\n",
    "model_ft.classifier[6] = nn.Linear(4096, 5)\n",
    "model_ft = model_ft.to(device)"
   ]
  },
  {
   "cell_type": "code",
   "execution_count": 16,
   "metadata": {},
   "outputs": [],
   "source": [
    "checkpoints = 'C:\\\\Pytorch_for_fyp\\\\envfyp\\\\Data\\\\checkpoints\\\\model_checkpoint.pth'"
   ]
  },
  {
   "cell_type": "code",
   "execution_count": 17,
   "metadata": {},
   "outputs": [],
   "source": [
    "transformation = transforms.Compose([\n",
    "    transforms.Resize((256, 256)),\n",
    "    transforms.RandomCrop((224, 224)),\n",
    "    transforms.ToTensor(),\n",
    "    transforms.Normalize(mean=[0.485, 0.456, 0.406], std=[0.229, 0.224, 0.225])\n",
    "])"
   ]
  },
  {
   "cell_type": "code",
   "execution_count": 18,
   "metadata": {},
   "outputs": [
    {
     "name": "stdout",
     "output_type": "stream",
     "text": [
      "              image  level\n",
      "0           10_left      0\n",
      "1          10_right      0\n",
      "2           13_left      0\n",
      "3          13_right      0\n",
      "4           15_left      1\n",
      "...             ...    ...\n",
      "92359  ffa47f6a7bf4      2\n",
      "92360  ffc04fed30e6      0\n",
      "92361  ffcf7b45f213      2\n",
      "92362  ffd97f8cd5aa      0\n",
      "92363  ffec9a18a3ce      2\n",
      "\n",
      "[92364 rows x 2 columns]\n"
     ]
    }
   ],
   "source": [
    "data_path = 'C:\\\\Pytorch_for_fyp\\\\envfyp\\\\Data\\\\resized_traintest15_train19\\\\'\n",
    "csv_file = 'C:\\\\Pytorch_for_fyp\\\\envfyp\\\\Data\\\\labels\\\\traintestLabels15_trainLabels19.csv'\n",
    "df = pd.read_csv(csv_file)\n",
    "df['image'] = df['image'].apply(str)\n",
    "df['level'] = df['level'].apply(int)\n",
    "print(df)"
   ]
  },
  {
   "cell_type": "code",
   "execution_count": 19,
   "metadata": {},
   "outputs": [],
   "source": [
    "#  Dictionary to map image filenames to class labels\n",
    "mapping = {}\n",
    "for index, row in df.iterrows():\n",
    "    filename = row['image']\n",
    "    class_label = row['level']\n",
    "    mapping[filename] = class_label"
   ]
  },
  {
   "cell_type": "code",
   "execution_count": 20,
   "metadata": {},
   "outputs": [],
   "source": [
    "class DiaretDataset(Dataset):\n",
    "    def __init__(self, mapping, root_dir, labels_df, transform=None):\n",
    "        self.mapping = mapping\n",
    "        self.root_dir = root_dir\n",
    "        self.transform = transform\n",
    "        self.filenames = list(mapping.keys())\n",
    "        self.labels_df = labels_df\n",
    "\n",
    "    def __getitem__(self, index):\n",
    "        filename = self.labels_df.iloc[index]['image']\n",
    "        image_path = os.path.join(self.root_dir, filename)\n",
    "        image_path += \".jpg\"\n",
    "        image = Image.open(image_path)\n",
    "        if self.transform:\n",
    "            image = self.transform(image)\n",
    "        class_label = self.mapping[filename]\n",
    "        return image, class_label\n",
    "\n",
    "    def __len__(self):\n",
    "        return len(self.filenames)"
   ]
  },
  {
   "cell_type": "code",
   "execution_count": 21,
   "metadata": {},
   "outputs": [],
   "source": [
    "full_dataset = DiaretDataset(mapping, data_path, df, transform=transformation)\n",
    "train_size = int(0.8 * len(full_dataset))\n",
    "val_size = len(full_dataset) - train_size\n",
    "train_dataset, val_dataset = random_split(full_dataset, [train_size, val_size])"
   ]
  },
  {
   "cell_type": "code",
   "execution_count": 22,
   "metadata": {},
   "outputs": [],
   "source": [
    "batch_size = 32\n",
    "train_dataloader = DataLoader(train_dataset, batch_size=batch_size, shuffle=True)\n",
    "val_dataloader = DataLoader(val_dataset, batch_size=batch_size, shuffle=False)"
   ]
  },
  {
   "cell_type": "code",
   "execution_count": 23,
   "metadata": {},
   "outputs": [
    {
     "name": "stdout",
     "output_type": "stream",
     "text": [
      "Epoch [1/60], Step [10/2310], Loss: 0.9412\n",
      "Epoch [1/60], Step [20/2310], Loss: 0.9789\n"
     ]
    },
    {
     "ename": "KeyboardInterrupt",
     "evalue": "",
     "output_type": "error",
     "traceback": [
      "\u001b[1;31m---------------------------------------------------------------------------\u001b[0m",
      "\u001b[1;31mKeyboardInterrupt\u001b[0m                         Traceback (most recent call last)",
      "Cell \u001b[1;32mIn[23], line 39\u001b[0m\n\u001b[0;32m     36\u001b[0m loss\u001b[39m.\u001b[39mbackward()\n\u001b[0;32m     37\u001b[0m optimizer\u001b[39m.\u001b[39mstep()\n\u001b[1;32m---> 39\u001b[0m running_loss \u001b[39m+\u001b[39m\u001b[39m=\u001b[39m loss\u001b[39m.\u001b[39mitem()\n\u001b[0;32m     41\u001b[0m \u001b[39m# Calculate training accuracy\u001b[39;00m\n\u001b[0;32m     42\u001b[0m _, predicted \u001b[39m=\u001b[39m torch\u001b[39m.\u001b[39mmax(outputs\u001b[39m.\u001b[39mdata, \u001b[39m1\u001b[39m)\n",
      "\u001b[1;31mKeyboardInterrupt\u001b[0m: "
     ]
    }
   ],
   "source": [
    "# Training the model\n",
    "num_epochs = 60\n",
    "learning_rate = 0.001\n",
    "\n",
    "criterion = nn.CrossEntropyLoss()\n",
    "optimizer = torch.optim.Adam(model_ft.parameters(), lr=learning_rate)\n",
    "\n",
    "accumulation_steps = 4  # Number of batches to accumulate gradients\n",
    "\n",
    "# Free up GPU memory\n",
    "torch.cuda.empty_cache()\n",
    "\n",
    "train_losses = []\n",
    "train_accs = []  \n",
    "\n",
    "# Training loop\n",
    "total_step = len(train_dataloader)\n",
    "model_ft.train()\n",
    "\n",
    "for epoch in range(num_epochs):\n",
    "    running_loss = 0.0\n",
    "    correct_train = 0\n",
    "    total_train = 0\n",
    "\n",
    "    for i, x in enumerate(train_dataloader):\n",
    "        torch.cuda.empty_cache()\n",
    "        images = x[0].to(device)\n",
    "        labels = x[1].to(device)\n",
    "\n",
    "        # Forward pass\n",
    "        outputs = model_ft(images)\n",
    "        loss = criterion(outputs, labels)\n",
    "\n",
    "        # Backward and optimize\n",
    "        optimizer.zero_grad()\n",
    "        loss.backward()\n",
    "        optimizer.step()\n",
    "\n",
    "        running_loss += loss.item()\n",
    "\n",
    "        # Calculate training accuracy\n",
    "        _, predicted = torch.max(outputs.data, 1)\n",
    "        total_train += labels.size(0)\n",
    "        correct_train += (predicted == labels).sum().item()\n",
    "\n",
    "        if (i + 1) % 10 == 0:\n",
    "            print('Epoch [{}/{}], Step [{}/{}], Loss: {:.4f}'\n",
    "                  .format(epoch + 1, num_epochs, i + 1, total_step, loss.item()))\n",
    "\n",
    "    # Calculate training loss and accuracy\n",
    "    avg_train_loss = running_loss / len(train_dataloader)\n",
    "    train_losses.append(avg_train_loss)\n",
    "    train_accuracy = 100 * correct_train / total_train\n",
    "    train_accs.append(train_accuracy)\n",
    "\n",
    "    # Free up GPU memory\n",
    "    torch.cuda.empty_cache()\n",
    "\n",
    "torch.save(model_ft.state_dict(), checkpoints)\n",
    "# Free up GPU memory\n",
    "torch.cuda.empty_cache() "
   ]
  },
  {
   "cell_type": "code",
   "execution_count": 26,
   "metadata": {},
   "outputs": [
    {
     "name": "stdout",
     "output_type": "stream",
     "text": [
      "Accuracy of the model on the validation set: 72.52%\n",
      "Epoch [1/60], Training Loss: 0.8861, Validation Loss: 0.8955, Accuracy: 72.52%\n"
     ]
    }
   ],
   "source": [
    " # Load the fine-tuned model for evaluation\n",
    "model_ft.load_state_dict(torch.load(checkpoints))\n",
    "\n",
    "\n",
    "val_losses = []\n",
    "val_accs = []  # Track validation accuracies\n",
    "# Validation loop\n",
    "model_ft.eval()\n",
    "with torch.no_grad():\n",
    "    correct_val = 0\n",
    "    total_val = 0\n",
    "    val_loss = 0.0\n",
    "    \n",
    "    for x in val_dataloader:\n",
    "        images = x[0].to(device)\n",
    "        labels = x[1].to(device)\n",
    "        outputs = model_ft(images)\n",
    "        _, predicted = torch.max(outputs.data, 1)\n",
    "        total_val += labels.size(0)\n",
    "        correct_val += (predicted == labels).sum().item()\n",
    "        val_loss += criterion(outputs, labels).item()\n",
    "    \n",
    "# Calculate validation loss and accuracy\n",
    "    avg_val_loss = val_loss / len(val_dataloader)\n",
    "    val_losses.append(avg_val_loss)\n",
    "    val_accuracy = 100 * correct_val / total_val\n",
    "    val_accs.append(val_accuracy)\n",
    "\n",
    "    \n",
    "    print('Accuracy of the model on the validation set: {:.2f}%'.format(val_accuracy))\n",
    "    print('Epoch [{}/{}], Training Loss: {:.4f}, Validation Loss: {:.4f}, Accuracy: {:.2f}%'\n",
    "          .format(epoch+1, num_epochs, avg_train_loss, avg_val_loss, val_accuracy))"
   ]
  },
  {
   "cell_type": "code",
   "execution_count": 27,
   "metadata": {},
   "outputs": [
    {
     "data": {
      "image/png": "[encoded data removed]",
      "text/plain": [
       "<Figure size 640x480 with 1 Axes>"
      ]
     },
     "metadata": {},
     "output_type": "display_data"
    },
    {
     "name": "stdout",
     "output_type": "stream",
     "text": [
      "AUC of ROC: [0.5, 0.5, 0.5, 0.5, 0.5]\n"
     ]
    }
   ],
   "source": [
    "# Function to calculate AUC of ROC\n",
    "def calculate_roc_auc(model, dataloader):\n",
    "    model.eval()\n",
    "    y_true = []\n",
    "    y_scores = []\n",
    "\n",
    "    with torch.no_grad():\n",
    "        for images, labels in dataloader:\n",
    "            images = images.to(device)\n",
    "            labels = labels.to(device)\n",
    "\n",
    "            outputs = model(images)\n",
    "            probabilities = torch.softmax(outputs, dim=1)  # Apply softmax activation for multiclass classification\n",
    "            scores = probabilities.cpu().numpy()  # Convert to NumPy array\n",
    "\n",
    "            y_true.extend(labels.cpu().numpy())\n",
    "            y_scores.extend(scores)\n",
    "\n",
    "    y_true = np.array(y_true)\n",
    "    y_scores = np.array(y_scores)\n",
    "\n",
    "    num_classes = len(np.unique(y_true))\n",
    "\n",
    "    # Convert y_true to one-hot encoded form\n",
    "    y_true_one_hot = label_binarize(y_true, classes=range(num_classes))\n",
    "\n",
    "    # Compute ROC AUC for each class\n",
    "    roc_aucs = []\n",
    "    for class_idx in range(num_classes):\n",
    "        class_true = y_true_one_hot[:, class_idx]\n",
    "        class_scores = y_scores[:, class_idx]\n",
    "        roc_auc = roc_auc_score(class_true, class_scores)\n",
    "        roc_aucs.append(roc_auc)\n",
    "\n",
    "        # Calculate and plot ROC curve\n",
    "        fpr, tpr, _ = roc_curve(class_true, class_scores)\n",
    "        plt.plot(fpr, tpr, label=f'Class {class_idx} (AUC = {roc_auc:.2f})')\n",
    "\n",
    "    plt.plot([0, 1], [0, 1], 'k--')  # Diagonal line\n",
    "    plt.xlabel('False Positive Rate')\n",
    "    plt.ylabel('True Positive Rate')\n",
    "    plt.title('Receiver Operating Characteristic')\n",
    "    plt.legend()\n",
    "    plt.show()\n",
    "\n",
    "    return roc_aucs\n",
    "\n",
    "# Calculate AUC of ROC and plot ROC curve\n",
    "auc_total = calculate_roc_auc(model_ft, val_dataloader)\n",
    "print('AUC of ROC:', auc_total)"
   ]
  },
  {
   "cell_type": "code",
   "execution_count": 28,
   "metadata": {},
   "outputs": [
    {
     "name": "stdout",
     "output_type": "stream",
     "text": [
      "F1 Score (None) : 0.1681\n",
      "F1 Score (micro) : 0.7252\n",
      "F1 Score (macro) : 0.1681\n",
      "F1 Score (weighted) : 0.6097\n"
     ]
    }
   ],
   "source": [
    "def calculate_f1_score(model, dataloader, average=None):\n",
    "    model.eval()\n",
    "    y_true = []\n",
    "    y_pred = []\n",
    "    with torch.no_grad():\n",
    "        for x in dataloader:\n",
    "            images = x[0].to(device)\n",
    "            labels = x[1].to(device)\n",
    "            outputs = model(images)\n",
    "            _, predicted = torch.max(outputs.data, 1)\n",
    "            y_true.extend(labels.cpu().numpy())\n",
    "            y_pred.extend(predicted.cpu().numpy())\n",
    "    f1 = f1_score(y_true, y_pred, average=average)\n",
    "    return f1\n",
    "\n",
    "# Calculate F1 scores for different average options\n",
    "average_options = [None, 'micro', 'macro', 'weighted']\n",
    "f1_scores = {}\n",
    "for average in average_options:\n",
    "    f1_scores[average] = calculate_f1_score(model_ft, val_dataloader, average=average)\n",
    "\n",
    "# Print the F1 scores\n",
    "for average, f1 in f1_scores.items():\n",
    "    f1_mean = np.mean(f1)  # Calculate the mean of the F1 score array\n",
    "    print('F1 Score ({}) : {:.4f}'.format(average, f1_mean))"
   ]
  },
  {
   "cell_type": "code",
   "execution_count": null,
   "metadata": {},
   "outputs": [],
   "source": [
    "def calculate_sensitivity_specificity(model, dataloader):\n",
    "    model.eval()\n",
    "    y_true = []\n",
    "    y_pred = []\n",
    "    with torch.no_grad():\n",
    "        for x in dataloader:\n",
    "            images = x[0].to(device)\n",
    "            labels = x[1].to(device)\n",
    "            outputs = model(images)\n",
    "            _, predicted = torch.max(outputs.data, 1)\n",
    "            y_true.extend(labels.cpu().numpy())\n",
    "            y_pred.extend(predicted.cpu().numpy())\n",
    "    cm = confusion_matrix(y_true, y_pred)\n",
    "    # Extract values from the confusion matrix based on its shape\n",
    "    if cm.shape == (2, 2):\n",
    "        tn, fp, fn, tp = cm.ravel()\n",
    "    elif cm.shape == (2,):\n",
    "        tn, fp = cm.ravel()\n",
    "        fn = tp = 0\n",
    "    else:\n",
    "        tn = fp = fn = tp = 0\n",
    "\n",
    "    # Handle zero division error\n",
    "    sensitivity = tp / (tp + fn) if (tp + fn) != 0 else 0\n",
    "    specificity = tn / (tn + fp) if (tn + fp) != 0 else 0\n",
    "    return sensitivity, specificity\n",
    "\n",
    "# Calculate Sensitivity and Specificity\n",
    "sensitivity, specificity = calculate_sensitivity_specificity(model_ft, val_dataloader)\n",
    "print('Sensitivity:', sensitivity)\n",
    "print('Specificity:', specificity)"
   ]
  },
  {
   "cell_type": "code",
   "execution_count": 29,
   "metadata": {},
   "outputs": [
    {
     "ename": "ValueError",
     "evalue": "x and y must have same first dimension, but have shapes (60,) and (0,)",
     "output_type": "error",
     "traceback": [
      "\u001b[1;31m---------------------------------------------------------------------------\u001b[0m",
      "\u001b[1;31mValueError\u001b[0m                                Traceback (most recent call last)",
      "Cell \u001b[1;32mIn[29], line 13\u001b[0m\n\u001b[0;32m     10\u001b[0m     plt\u001b[39m.\u001b[39mshow()\n\u001b[0;32m     12\u001b[0m \u001b[39m# Plot the Validation Curve\u001b[39;00m\n\u001b[1;32m---> 13\u001b[0m plot_validation_curve(train_losses, val_losses)\n",
      "Cell \u001b[1;32mIn[29], line 4\u001b[0m, in \u001b[0;36mplot_validation_curve\u001b[1;34m(train_losses, val_losses)\u001b[0m\n\u001b[0;32m      2\u001b[0m \u001b[39mdef\u001b[39;00m \u001b[39mplot_validation_curve\u001b[39m(train_losses, val_losses):\n\u001b[1;32m----> 4\u001b[0m     plt\u001b[39m.\u001b[39;49mplot(\u001b[39mrange\u001b[39;49m(\u001b[39m1\u001b[39;49m, num_epochs \u001b[39m+\u001b[39;49m \u001b[39m1\u001b[39;49m), train_losses, label\u001b[39m=\u001b[39;49m\u001b[39m'\u001b[39;49m\u001b[39mTraining Loss\u001b[39;49m\u001b[39m'\u001b[39;49m)\n\u001b[0;32m      5\u001b[0m     plt\u001b[39m.\u001b[39mplot(\u001b[39mrange\u001b[39m(\u001b[39m1\u001b[39m, num_epochs \u001b[39m+\u001b[39m \u001b[39m1\u001b[39m), val_losses, label\u001b[39m=\u001b[39m\u001b[39m'\u001b[39m\u001b[39mValidation Loss\u001b[39m\u001b[39m'\u001b[39m)\n\u001b[0;32m      6\u001b[0m     plt\u001b[39m.\u001b[39mxlabel(\u001b[39m'\u001b[39m\u001b[39mEpochs\u001b[39m\u001b[39m'\u001b[39m)\n",
      "File \u001b[1;32mc:\\Pytorch_for_fyp\\envfyp\\lib\\site-packages\\matplotlib\\pyplot.py:2812\u001b[0m, in \u001b[0;36mplot\u001b[1;34m(scalex, scaley, data, *args, **kwargs)\u001b[0m\n\u001b[0;32m   2810\u001b[0m \u001b[39m@_copy_docstring_and_deprecators\u001b[39m(Axes\u001b[39m.\u001b[39mplot)\n\u001b[0;32m   2811\u001b[0m \u001b[39mdef\u001b[39;00m \u001b[39mplot\u001b[39m(\u001b[39m*\u001b[39margs, scalex\u001b[39m=\u001b[39m\u001b[39mTrue\u001b[39;00m, scaley\u001b[39m=\u001b[39m\u001b[39mTrue\u001b[39;00m, data\u001b[39m=\u001b[39m\u001b[39mNone\u001b[39;00m, \u001b[39m*\u001b[39m\u001b[39m*\u001b[39mkwargs):\n\u001b[1;32m-> 2812\u001b[0m     \u001b[39mreturn\u001b[39;00m gca()\u001b[39m.\u001b[39;49mplot(\n\u001b[0;32m   2813\u001b[0m         \u001b[39m*\u001b[39;49margs, scalex\u001b[39m=\u001b[39;49mscalex, scaley\u001b[39m=\u001b[39;49mscaley,\n\u001b[0;32m   2814\u001b[0m         \u001b[39m*\u001b[39;49m\u001b[39m*\u001b[39;49m({\u001b[39m\"\u001b[39;49m\u001b[39mdata\u001b[39;49m\u001b[39m\"\u001b[39;49m: data} \u001b[39mif\u001b[39;49;00m data \u001b[39mis\u001b[39;49;00m \u001b[39mnot\u001b[39;49;00m \u001b[39mNone\u001b[39;49;00m \u001b[39melse\u001b[39;49;00m {}), \u001b[39m*\u001b[39;49m\u001b[39m*\u001b[39;49mkwargs)\n",
      "File \u001b[1;32mc:\\Pytorch_for_fyp\\envfyp\\lib\\site-packages\\matplotlib\\axes\\_axes.py:1688\u001b[0m, in \u001b[0;36mAxes.plot\u001b[1;34m(self, scalex, scaley, data, *args, **kwargs)\u001b[0m\n\u001b[0;32m   1445\u001b[0m \u001b[39m\u001b[39m\u001b[39m\"\"\"\u001b[39;00m\n\u001b[0;32m   1446\u001b[0m \u001b[39mPlot y versus x as lines and/or markers.\u001b[39;00m\n\u001b[0;32m   1447\u001b[0m \n\u001b[1;32m   (...)\u001b[0m\n\u001b[0;32m   1685\u001b[0m \u001b[39m(``'green'``) or hex strings (``'#008000'``).\u001b[39;00m\n\u001b[0;32m   1686\u001b[0m \u001b[39m\"\"\"\u001b[39;00m\n\u001b[0;32m   1687\u001b[0m kwargs \u001b[39m=\u001b[39m cbook\u001b[39m.\u001b[39mnormalize_kwargs(kwargs, mlines\u001b[39m.\u001b[39mLine2D)\n\u001b[1;32m-> 1688\u001b[0m lines \u001b[39m=\u001b[39m [\u001b[39m*\u001b[39m\u001b[39mself\u001b[39m\u001b[39m.\u001b[39m_get_lines(\u001b[39m*\u001b[39margs, data\u001b[39m=\u001b[39mdata, \u001b[39m*\u001b[39m\u001b[39m*\u001b[39mkwargs)]\n\u001b[0;32m   1689\u001b[0m \u001b[39mfor\u001b[39;00m line \u001b[39min\u001b[39;00m lines:\n\u001b[0;32m   1690\u001b[0m     \u001b[39mself\u001b[39m\u001b[39m.\u001b[39madd_line(line)\n",
      "File \u001b[1;32mc:\\Pytorch_for_fyp\\envfyp\\lib\\site-packages\\matplotlib\\axes\\_base.py:311\u001b[0m, in \u001b[0;36m_process_plot_var_args.__call__\u001b[1;34m(self, data, *args, **kwargs)\u001b[0m\n\u001b[0;32m    309\u001b[0m     this \u001b[39m+\u001b[39m\u001b[39m=\u001b[39m args[\u001b[39m0\u001b[39m],\n\u001b[0;32m    310\u001b[0m     args \u001b[39m=\u001b[39m args[\u001b[39m1\u001b[39m:]\n\u001b[1;32m--> 311\u001b[0m \u001b[39myield from\u001b[39;00m \u001b[39mself\u001b[39;49m\u001b[39m.\u001b[39;49m_plot_args(\n\u001b[0;32m    312\u001b[0m     this, kwargs, ambiguous_fmt_datakey\u001b[39m=\u001b[39;49mambiguous_fmt_datakey)\n",
      "File \u001b[1;32mc:\\Pytorch_for_fyp\\envfyp\\lib\\site-packages\\matplotlib\\axes\\_base.py:504\u001b[0m, in \u001b[0;36m_process_plot_var_args._plot_args\u001b[1;34m(self, tup, kwargs, return_kwargs, ambiguous_fmt_datakey)\u001b[0m\n\u001b[0;32m    501\u001b[0m     \u001b[39mself\u001b[39m\u001b[39m.\u001b[39maxes\u001b[39m.\u001b[39myaxis\u001b[39m.\u001b[39mupdate_units(y)\n\u001b[0;32m    503\u001b[0m \u001b[39mif\u001b[39;00m x\u001b[39m.\u001b[39mshape[\u001b[39m0\u001b[39m] \u001b[39m!=\u001b[39m y\u001b[39m.\u001b[39mshape[\u001b[39m0\u001b[39m]:\n\u001b[1;32m--> 504\u001b[0m     \u001b[39mraise\u001b[39;00m \u001b[39mValueError\u001b[39;00m(\u001b[39mf\u001b[39m\u001b[39m\"\u001b[39m\u001b[39mx and y must have same first dimension, but \u001b[39m\u001b[39m\"\u001b[39m\n\u001b[0;32m    505\u001b[0m                      \u001b[39mf\u001b[39m\u001b[39m\"\u001b[39m\u001b[39mhave shapes \u001b[39m\u001b[39m{\u001b[39;00mx\u001b[39m.\u001b[39mshape\u001b[39m}\u001b[39;00m\u001b[39m and \u001b[39m\u001b[39m{\u001b[39;00my\u001b[39m.\u001b[39mshape\u001b[39m}\u001b[39;00m\u001b[39m\"\u001b[39m)\n\u001b[0;32m    506\u001b[0m \u001b[39mif\u001b[39;00m x\u001b[39m.\u001b[39mndim \u001b[39m>\u001b[39m \u001b[39m2\u001b[39m \u001b[39mor\u001b[39;00m y\u001b[39m.\u001b[39mndim \u001b[39m>\u001b[39m \u001b[39m2\u001b[39m:\n\u001b[0;32m    507\u001b[0m     \u001b[39mraise\u001b[39;00m \u001b[39mValueError\u001b[39;00m(\u001b[39mf\u001b[39m\u001b[39m\"\u001b[39m\u001b[39mx and y can be no greater than 2D, but have \u001b[39m\u001b[39m\"\u001b[39m\n\u001b[0;32m    508\u001b[0m                      \u001b[39mf\u001b[39m\u001b[39m\"\u001b[39m\u001b[39mshapes \u001b[39m\u001b[39m{\u001b[39;00mx\u001b[39m.\u001b[39mshape\u001b[39m}\u001b[39;00m\u001b[39m and \u001b[39m\u001b[39m{\u001b[39;00my\u001b[39m.\u001b[39mshape\u001b[39m}\u001b[39;00m\u001b[39m\"\u001b[39m)\n",
      "\u001b[1;31mValueError\u001b[0m: x and y must have same first dimension, but have shapes (60,) and (0,)"
     ]
    },
    {
     "data": {
      "image/png": "[encoded data removed]",
      "text/plain": [
       "<Figure size 640x480 with 1 Axes>"
      ]
     },
     "metadata": {},
     "output_type": "display_data"
    }
   ],
   "source": [
    "# Function to plot the validation curve\n",
    "def plot_validation_curve(train_losses, val_losses):\n",
    "\n",
    "    plt.plot(range(1, num_epochs + 1), train_losses, label='Training Loss')\n",
    "    plt.plot(range(1, num_epochs + 1), val_losses, label='Validation Loss')\n",
    "    plt.xlabel('Epochs')\n",
    "    plt.ylabel('Loss')\n",
    "    plt.title('Validation Curve')\n",
    "    plt.legend()\n",
    "    plt.show()\n",
    "    \n",
    "# Plot the Validation Curve\n",
    "plot_validation_curve(train_losses, val_losses)"
   ]
  },
  {
   "cell_type": "code",
   "execution_count": null,
   "metadata": {},
   "outputs": [],
   "source": [
    "# Function to plot the learning curve\n",
    "def plot_learning_curve(train_accs, val_accs):\n",
    "    plt.plot(range(1, num_epochs + 1), train_accs, label='Training Accuracy')\n",
    "    plt.plot(range(1, num_epochs + 1), val_accs, label='Validation Accuracy')\n",
    "    plt.xlabel('Epochs')\n",
    "    plt.ylabel('Accuracy')\n",
    "    plt.title('Learning Curve')\n",
    "    plt.legend()\n",
    "    plt.show()\n",
    "    \n",
    "# Plot the Learning Curve\n",
    "plot_learning_curve(train_accs, val_accs)"
   ]
  },
  {
   "cell_type": "code",
   "execution_count": null,
   "metadata": {},
   "outputs": [],
   "source": [
    "# Function to plot the confusion matrix\n",
    "def plot_confusion_matrix(model, dataloader):\n",
    "    model.eval()\n",
    "    y_true = []\n",
    "    y_pred = []\n",
    "    with torch.no_grad():\n",
    "        for x in dataloader:\n",
    "            images = x[0].to(device)\n",
    "            labels = x[1].to(device)\n",
    "            outputs = model(images)\n",
    "            _, predicted = torch.max(outputs.data, 1)\n",
    "            y_true.extend(labels.cpu().numpy())\n",
    "            y_pred.extend(predicted.cpu().numpy())\n",
    "    cm = confusion_matrix(y_true, y_pred)\n",
    "    plt.imshow(cm, cmap=plt.cm.Blues)\n",
    "    plt.title('Confusion Matrix')\n",
    "    plt.colorbar()\n",
    "    plt.xlabel('Predicted Label')\n",
    "    plt.ylabel('True Label')\n",
    "    plt.show()\n",
    "    \n",
    "# Plot the Confusion Matrix\n",
    "plot_confusion_matrix(model_ft, val_dataloader)"
   ]
  }
 ],
 "metadata": {
  "kernelspec": {
   "display_name": "Python 3 (ipykernel)",
   "language": "python",
   "name": "python3"
  },
  "language_info": {
   "codemirror_mode": {
    "name": "ipython",
    "version": 3
   },
   "file_extension": ".py",
   "mimetype": "text/x-python",
   "name": "python",
   "nbconvert_exporter": "python",
   "pygments_lexer": "ipython3",
   "version": "3.8.8"
  }
 },
 "nbformat": 4,
 "nbformat_minor": 2
}
